{
 "cells": [
  {
   "cell_type": "markdown",
   "metadata": {},
   "source": [
    "<center><img src=\"https://keras.io/img/logo-small.png\" alt=\"Keras logo\" width=\"100\"><br/>\n",
    "This starter notebook is provided by the Keras team.</center>"
   ]
  },
  {
   "cell_type": "markdown",
   "metadata": {},
   "source": [
    "# UBC Ovarian Cancer Subtype Classification and Outlier Detection (UBC-OCEAN) with [KerasCV](https://github.com/keras-team/keras-cv) and [Keras](https://github.com/keras-team/keras)\n",
    "\n",
    "> Your challenge in this competition is to classify the type of ovarian cancer from microscopy scans of biopsy samples.\n",
    "\n",
    "This notebook walks you through how to train a **Convolutional Neural Network (CNN)** model (here ResNet) using KerasCV on the UBC-OCEAN dataset made available for this competition. In this notebook we specifically train on the `thumbnail` images provided.\n",
    "\n",
    "Fun fact: This notebook is backend (tensorflow, pytorch, jax) agnostic. Using KerasCV and Keras we can choose a backend of our choise! Feel free to read on [Keras](https://keras.io/keras_core/announcement/) to know more.\n",
    "\n",
    "In this notebook you will learn:\n",
    "\n",
    "* Loading the data using [`tf.data`](https://www.tensorflow.org/guide/data).\n",
    "* Create the model using KerasCV presets.\n",
    "* Train the model.\n",
    "* Submit to the competition.\n",
    "\n",
    "**Note**: [KerasCV guides](https://keras.io/guides/keras_cv/) is the place to go for a deeper understanding of KerasCV individually."
   ]
  },
  {
   "cell_type": "code",
   "execution_count": 1,
   "metadata": {},
   "outputs": [
    {
     "data": {
      "text/plain": [
       "<bound method DataFrame.info of      image_id label\n",
       "0       57598    CC\n",
       "1       30868    MC\n",
       "2       42549    CC\n",
       "3       64824    CC\n",
       "4       15293  HGSC\n",
       "..        ...   ...\n",
       "425     52784  HGSC\n",
       "426     59383  HGSC\n",
       "427     56799    MC\n",
       "428     30515    EC\n",
       "429     51346    CC\n",
       "\n",
       "[430 rows x 2 columns]>"
      ]
     },
     "execution_count": 1,
     "metadata": {},
     "output_type": "execute_result"
    }
   ],
   "source": [
    "import pandas as pd\n",
    "import numpy as np\n",
    "\n",
    "data_dir = \"C:/Users/DerrikZ/Desktop/UBC-OCEAN_CS640/\"\n",
    "image_dir = data_dir+\"train_images_compressed_80\"\n",
    "train = pd.read_csv(data_dir + \"train.csv\")\n",
    "train_csv_path = data_dir + \"train.csv\"\n",
    "train_thumbnail_paths = data_dir + \"train_images_compressed_80\"\n",
    "\n",
    "test  = pd.read_csv(data_dir+ \"test.csv\")\n",
    "test_csv_path = data_dir + \"test.csv\"\n",
    "test_thumbnail_paths = data_dir + \"test_images_compressed_80\"\n",
    "\n",
    "train.info"
   ]
  },
  {
   "cell_type": "markdown",
   "metadata": {},
   "source": [
    "## Setup and Imports\n",
    "\n",
    "Keras is backend agnostic. This means that you can run keras on [TensorFlow](https://www.tensorflow.org/), [JAX](https://jax.readthedocs.io/en/latest/index.html), [PyTorch](https://pytorch.org/), or [Numpy](https://numpy.org/) (inference only). We will be using JAX as our backend. To switch backends set the `KERAS_BACKEND` varialbe to which backend to want."
   ]
  },
  {
   "cell_type": "code",
   "execution_count": 12,
   "metadata": {
    "execution": {
     "iopub.execute_input": "2023-10-16T18:59:28.037213Z",
     "iopub.status.busy": "2023-10-16T18:59:28.036614Z",
     "iopub.status.idle": "2023-10-16T18:59:41.889595Z",
     "shell.execute_reply": "2023-10-16T18:59:41.888641Z",
     "shell.execute_reply.started": "2023-10-16T18:59:28.03718Z"
    }
   },
   "outputs": [
    {
     "name": "stdout",
     "output_type": "stream",
     "text": [
      "Using JAX backend.\n"
     ]
    },
    {
     "ename": "AttributeError",
     "evalue": "partially initialized module 'jax' has no attribute 'version' (most likely due to a circular import)",
     "output_type": "error",
     "traceback": [
      "\u001b[1;31m---------------------------------------------------------------------------\u001b[0m",
      "\u001b[1;31mAttributeError\u001b[0m                            Traceback (most recent call last)",
      "\u001b[1;32mc:\\Users\\DerrikZ\\Desktop\\Study\\CS640\\Project\\kerascv-train-and-infer-on-thumbnails (1).ipynb Cell 5\u001b[0m line \u001b[0;36m1\n\u001b[0;32m     <a href='vscode-notebook-cell:/c%3A/Users/DerrikZ/Desktop/Study/CS640/Project/kerascv-train-and-infer-on-thumbnails%20%281%29.ipynb#W5sZmlsZQ%3D%3D?line=11'>12</a>\u001b[0m sns\u001b[39m.\u001b[39mset(style\u001b[39m=\u001b[39m\u001b[39m\"\u001b[39m\u001b[39mwhitegrid\u001b[39m\u001b[39m\"\u001b[39m)\n\u001b[0;32m     <a href='vscode-notebook-cell:/c%3A/Users/DerrikZ/Desktop/Study/CS640/Project/kerascv-train-and-infer-on-thumbnails%20%281%29.ipynb#W5sZmlsZQ%3D%3D?line=14'>15</a>\u001b[0m \u001b[39mimport\u001b[39;00m \u001b[39mtensorflow\u001b[39;00m \u001b[39mas\u001b[39;00m \u001b[39mtf\u001b[39;00m\n\u001b[1;32m---> <a href='vscode-notebook-cell:/c%3A/Users/DerrikZ/Desktop/Study/CS640/Project/kerascv-train-and-infer-on-thumbnails%20%281%29.ipynb#W5sZmlsZQ%3D%3D?line=15'>16</a>\u001b[0m \u001b[39mimport\u001b[39;00m \u001b[39mkeras_cv\u001b[39;00m\n\u001b[0;32m     <a href='vscode-notebook-cell:/c%3A/Users/DerrikZ/Desktop/Study/CS640/Project/kerascv-train-and-infer-on-thumbnails%20%281%29.ipynb#W5sZmlsZQ%3D%3D?line=16'>17</a>\u001b[0m \u001b[39mimport\u001b[39;00m \u001b[39mkeras_core\u001b[39;00m \u001b[39mas\u001b[39;00m \u001b[39mkeras\u001b[39;00m\n\u001b[0;32m     <a href='vscode-notebook-cell:/c%3A/Users/DerrikZ/Desktop/Study/CS640/Project/kerascv-train-and-infer-on-thumbnails%20%281%29.ipynb#W5sZmlsZQ%3D%3D?line=17'>18</a>\u001b[0m \u001b[39mfrom\u001b[39;00m \u001b[39mkeras_core\u001b[39;00m \u001b[39mimport\u001b[39;00m ops\n",
      "File \u001b[1;32mc:\\All\\Coding\\Python\\Python311\\Lib\\site-packages\\keras_cv\\__init__.py:8\u001b[0m\n\u001b[0;32m      1\u001b[0m \u001b[39m\"\"\"DO NOT EDIT.\u001b[39;00m\n\u001b[0;32m      2\u001b[0m \n\u001b[0;32m      3\u001b[0m \u001b[39mThis file was autogenerated. Do not edit it by hand,\u001b[39;00m\n\u001b[0;32m      4\u001b[0m \u001b[39msince your modifications would be overwritten.\u001b[39;00m\n\u001b[0;32m      5\u001b[0m \u001b[39m\"\"\"\u001b[39;00m\n\u001b[1;32m----> 8\u001b[0m \u001b[39mfrom\u001b[39;00m \u001b[39mkeras_cv\u001b[39;00m \u001b[39mimport\u001b[39;00m bounding_box\n\u001b[0;32m      9\u001b[0m \u001b[39mfrom\u001b[39;00m \u001b[39mkeras_cv\u001b[39;00m \u001b[39mimport\u001b[39;00m callbacks\n\u001b[0;32m     10\u001b[0m \u001b[39mfrom\u001b[39;00m \u001b[39mkeras_cv\u001b[39;00m \u001b[39mimport\u001b[39;00m core\n",
      "File \u001b[1;32mc:\\All\\Coding\\Python\\Python311\\Lib\\site-packages\\keras_cv\\bounding_box\\__init__.py:8\u001b[0m\n\u001b[0;32m      1\u001b[0m \u001b[39m\"\"\"DO NOT EDIT.\u001b[39;00m\n\u001b[0;32m      2\u001b[0m \n\u001b[0;32m      3\u001b[0m \u001b[39mThis file was autogenerated. Do not edit it by hand,\u001b[39;00m\n\u001b[0;32m      4\u001b[0m \u001b[39msince your modifications would be overwritten.\u001b[39;00m\n\u001b[0;32m      5\u001b[0m \u001b[39m\"\"\"\u001b[39;00m\n\u001b[1;32m----> 8\u001b[0m \u001b[39mfrom\u001b[39;00m \u001b[39mkeras_cv\u001b[39;00m\u001b[39m.\u001b[39;00m\u001b[39msrc\u001b[39;00m\u001b[39m.\u001b[39;00m\u001b[39mbounding_box\u001b[39;00m\u001b[39m.\u001b[39;00m\u001b[39mconverters\u001b[39;00m \u001b[39mimport\u001b[39;00m convert_format\n\u001b[0;32m      9\u001b[0m \u001b[39mfrom\u001b[39;00m \u001b[39mkeras_cv\u001b[39;00m\u001b[39m.\u001b[39;00m\u001b[39msrc\u001b[39;00m\u001b[39m.\u001b[39;00m\u001b[39mbounding_box\u001b[39;00m\u001b[39m.\u001b[39;00m\u001b[39mensure_tensor\u001b[39;00m \u001b[39mimport\u001b[39;00m ensure_tensor\n\u001b[0;32m     10\u001b[0m \u001b[39mfrom\u001b[39;00m \u001b[39mkeras_cv\u001b[39;00m\u001b[39m.\u001b[39;00m\u001b[39msrc\u001b[39;00m\u001b[39m.\u001b[39;00m\u001b[39mbounding_box\u001b[39;00m\u001b[39m.\u001b[39;00m\u001b[39mformats\u001b[39;00m \u001b[39mimport\u001b[39;00m CENTER_XYWH\n",
      "File \u001b[1;32mc:\\All\\Coding\\Python\\Python311\\Lib\\site-packages\\keras_cv\\src\\__init__.py:30\u001b[0m\n\u001b[0;32m     27\u001b[0m version_check\u001b[39m.\u001b[39mcheck_tf_version()\n\u001b[0;32m     28\u001b[0m \u001b[39m# isort:on\u001b[39;00m\n\u001b[1;32m---> 30\u001b[0m \u001b[39mfrom\u001b[39;00m \u001b[39mkeras_cv\u001b[39;00m\u001b[39m.\u001b[39;00m\u001b[39msrc\u001b[39;00m \u001b[39mimport\u001b[39;00m bounding_box\n\u001b[0;32m     31\u001b[0m \u001b[39mfrom\u001b[39;00m \u001b[39mkeras_cv\u001b[39;00m\u001b[39m.\u001b[39;00m\u001b[39msrc\u001b[39;00m \u001b[39mimport\u001b[39;00m callbacks\n\u001b[0;32m     32\u001b[0m \u001b[39mfrom\u001b[39;00m \u001b[39mkeras_cv\u001b[39;00m\u001b[39m.\u001b[39;00m\u001b[39msrc\u001b[39;00m \u001b[39mimport\u001b[39;00m datasets\n",
      "File \u001b[1;32mc:\\All\\Coding\\Python\\Python311\\Lib\\site-packages\\keras_cv\\src\\bounding_box\\__init__.py:15\u001b[0m\n\u001b[0;32m      1\u001b[0m \u001b[39m# Copyright 2022 The KerasCV Authors\u001b[39;00m\n\u001b[0;32m      2\u001b[0m \u001b[39m#\u001b[39;00m\n\u001b[0;32m      3\u001b[0m \u001b[39m# Licensed under the Apache License, Version 2.0 (the \"License\");\u001b[39;00m\n\u001b[1;32m   (...)\u001b[0m\n\u001b[0;32m     12\u001b[0m \u001b[39m# See the License for the specific language governing permissions and\u001b[39;00m\n\u001b[0;32m     13\u001b[0m \u001b[39m# limitations under the License.\u001b[39;00m\n\u001b[1;32m---> 15\u001b[0m \u001b[39mfrom\u001b[39;00m \u001b[39mkeras_cv\u001b[39;00m\u001b[39m.\u001b[39;00m\u001b[39msrc\u001b[39;00m\u001b[39m.\u001b[39;00m\u001b[39mbounding_box\u001b[39;00m\u001b[39m.\u001b[39;00m\u001b[39mconverters\u001b[39;00m \u001b[39mimport\u001b[39;00m _decode_deltas_to_boxes\n\u001b[0;32m     16\u001b[0m \u001b[39mfrom\u001b[39;00m \u001b[39mkeras_cv\u001b[39;00m\u001b[39m.\u001b[39;00m\u001b[39msrc\u001b[39;00m\u001b[39m.\u001b[39;00m\u001b[39mbounding_box\u001b[39;00m\u001b[39m.\u001b[39;00m\u001b[39mconverters\u001b[39;00m \u001b[39mimport\u001b[39;00m _encode_box_to_deltas\n\u001b[0;32m     17\u001b[0m \u001b[39mfrom\u001b[39;00m \u001b[39mkeras_cv\u001b[39;00m\u001b[39m.\u001b[39;00m\u001b[39msrc\u001b[39;00m\u001b[39m.\u001b[39;00m\u001b[39mbounding_box\u001b[39;00m\u001b[39m.\u001b[39;00m\u001b[39mconverters\u001b[39;00m \u001b[39mimport\u001b[39;00m convert_format\n",
      "File \u001b[1;32mc:\\All\\Coding\\Python\\Python311\\Lib\\site-packages\\keras_cv\\src\\bounding_box\\converters.py:19\u001b[0m\n\u001b[0;32m     14\u001b[0m \u001b[39m\"\"\"Converter functions for working with bounding box formats.\"\"\"\u001b[39;00m\n\u001b[0;32m     17\u001b[0m \u001b[39mimport\u001b[39;00m \u001b[39mtensorflow\u001b[39;00m \u001b[39mas\u001b[39;00m \u001b[39mtf\u001b[39;00m\n\u001b[1;32m---> 19\u001b[0m \u001b[39mfrom\u001b[39;00m \u001b[39mkeras_cv\u001b[39;00m\u001b[39m.\u001b[39;00m\u001b[39msrc\u001b[39;00m\u001b[39m.\u001b[39;00m\u001b[39mapi_export\u001b[39;00m \u001b[39mimport\u001b[39;00m keras_cv_export\n\u001b[0;32m     20\u001b[0m \u001b[39mfrom\u001b[39;00m \u001b[39mkeras_cv\u001b[39;00m\u001b[39m.\u001b[39;00m\u001b[39msrc\u001b[39;00m\u001b[39m.\u001b[39;00m\u001b[39mbackend\u001b[39;00m \u001b[39mimport\u001b[39;00m keras\n\u001b[0;32m     21\u001b[0m \u001b[39mfrom\u001b[39;00m \u001b[39mkeras_cv\u001b[39;00m\u001b[39m.\u001b[39;00m\u001b[39msrc\u001b[39;00m\u001b[39m.\u001b[39;00m\u001b[39mbackend\u001b[39;00m \u001b[39mimport\u001b[39;00m ops\n",
      "File \u001b[1;32mc:\\All\\Coding\\Python\\Python311\\Lib\\site-packages\\keras_cv\\src\\api_export.py:17\u001b[0m\n\u001b[0;32m      1\u001b[0m \u001b[39m# Copyright 2023 The KerasCV Authors\u001b[39;00m\n\u001b[0;32m      2\u001b[0m \u001b[39m#\u001b[39;00m\n\u001b[0;32m      3\u001b[0m \u001b[39m# Licensed under the Apache License, Version 2.0 (the \"License\");\u001b[39;00m\n\u001b[1;32m   (...)\u001b[0m\n\u001b[0;32m     12\u001b[0m \u001b[39m# See the License for the specific language governing permissions and\u001b[39;00m\n\u001b[0;32m     13\u001b[0m \u001b[39m# limitations under the License.\u001b[39;00m\n\u001b[0;32m     15\u001b[0m \u001b[39mimport\u001b[39;00m \u001b[39mtypes\u001b[39;00m\n\u001b[1;32m---> 17\u001b[0m \u001b[39mfrom\u001b[39;00m \u001b[39mkeras_cv\u001b[39;00m\u001b[39m.\u001b[39;00m\u001b[39msrc\u001b[39;00m\u001b[39m.\u001b[39;00m\u001b[39mbackend\u001b[39;00m \u001b[39mimport\u001b[39;00m keras\n\u001b[0;32m     19\u001b[0m \u001b[39mtry\u001b[39;00m:\n\u001b[0;32m     20\u001b[0m     \u001b[39mimport\u001b[39;00m \u001b[39mnamex\u001b[39;00m\n",
      "File \u001b[1;32mc:\\All\\Coding\\Python\\Python311\\Lib\\site-packages\\keras_cv\\src\\backend\\__init__.py:44\u001b[0m\n\u001b[0;32m     32\u001b[0m _KERAS_CORE_ALIASES \u001b[39m=\u001b[39m {\n\u001b[0;32m     33\u001b[0m     \u001b[39m\"\u001b[39m\u001b[39mutils->saving\u001b[39m\u001b[39m\"\u001b[39m: [\n\u001b[0;32m     34\u001b[0m         \u001b[39m\"\u001b[39m\u001b[39mregister_keras_serializable\u001b[39m\u001b[39m\"\u001b[39m,\n\u001b[1;32m   (...)\u001b[0m\n\u001b[0;32m     39\u001b[0m     \u001b[39m\"\u001b[39m\u001b[39mmodels->saving\u001b[39m\u001b[39m\"\u001b[39m: [\u001b[39m\"\u001b[39m\u001b[39mload_model\u001b[39m\u001b[39m\"\u001b[39m],\n\u001b[0;32m     40\u001b[0m }\n\u001b[0;32m     43\u001b[0m \u001b[39mif\u001b[39;00m multi_backend():\n\u001b[1;32m---> 44\u001b[0m     \u001b[39mimport\u001b[39;00m \u001b[39mkeras_core\u001b[39;00m \u001b[39mas\u001b[39;00m \u001b[39mkeras\u001b[39;00m\n\u001b[0;32m     46\u001b[0m     keras\u001b[39m.\u001b[39mbackend\u001b[39m.\u001b[39mname_scope \u001b[39m=\u001b[39m keras\u001b[39m.\u001b[39mname_scope\n\u001b[0;32m     47\u001b[0m \u001b[39melse\u001b[39;00m:\n",
      "File \u001b[1;32mc:\\All\\Coding\\Python\\Python311\\Lib\\site-packages\\keras_core\\__init__.py:8\u001b[0m\n\u001b[0;32m      1\u001b[0m \u001b[39m\"\"\"DO NOT EDIT.\u001b[39;00m\n\u001b[0;32m      2\u001b[0m \n\u001b[0;32m      3\u001b[0m \u001b[39mThis file was autogenerated. Do not edit it by hand,\u001b[39;00m\n\u001b[0;32m      4\u001b[0m \u001b[39msince your modifications would be overwritten.\u001b[39;00m\n\u001b[0;32m      5\u001b[0m \u001b[39m\"\"\"\u001b[39;00m\n\u001b[1;32m----> 8\u001b[0m \u001b[39mfrom\u001b[39;00m \u001b[39mkeras_core\u001b[39;00m \u001b[39mimport\u001b[39;00m _tf_keras\n\u001b[0;32m      9\u001b[0m \u001b[39mfrom\u001b[39;00m \u001b[39mkeras_core\u001b[39;00m \u001b[39mimport\u001b[39;00m activations\n\u001b[0;32m     10\u001b[0m \u001b[39mfrom\u001b[39;00m \u001b[39mkeras_core\u001b[39;00m \u001b[39mimport\u001b[39;00m applications\n",
      "File \u001b[1;32mc:\\All\\Coding\\Python\\Python311\\Lib\\site-packages\\keras_core\\_tf_keras\\__init__.py:8\u001b[0m\n\u001b[0;32m      1\u001b[0m \u001b[39m\"\"\"DO NOT EDIT.\u001b[39;00m\n\u001b[0;32m      2\u001b[0m \n\u001b[0;32m      3\u001b[0m \u001b[39mThis file was autogenerated. Do not edit it by hand,\u001b[39;00m\n\u001b[0;32m      4\u001b[0m \u001b[39msince your modifications would be overwritten.\u001b[39;00m\n\u001b[0;32m      5\u001b[0m \u001b[39m\"\"\"\u001b[39;00m\n\u001b[1;32m----> 8\u001b[0m \u001b[39mfrom\u001b[39;00m \u001b[39mkeras_core\u001b[39;00m \u001b[39mimport\u001b[39;00m activations\n\u001b[0;32m      9\u001b[0m \u001b[39mfrom\u001b[39;00m \u001b[39mkeras_core\u001b[39;00m \u001b[39mimport\u001b[39;00m applications\n\u001b[0;32m     10\u001b[0m \u001b[39mfrom\u001b[39;00m \u001b[39mkeras_core\u001b[39;00m \u001b[39mimport\u001b[39;00m callbacks\n",
      "File \u001b[1;32mc:\\All\\Coding\\Python\\Python311\\Lib\\site-packages\\keras_core\\activations\\__init__.py:8\u001b[0m\n\u001b[0;32m      1\u001b[0m \u001b[39m\"\"\"DO NOT EDIT.\u001b[39;00m\n\u001b[0;32m      2\u001b[0m \n\u001b[0;32m      3\u001b[0m \u001b[39mThis file was autogenerated. Do not edit it by hand,\u001b[39;00m\n\u001b[0;32m      4\u001b[0m \u001b[39msince your modifications would be overwritten.\u001b[39;00m\n\u001b[0;32m      5\u001b[0m \u001b[39m\"\"\"\u001b[39;00m\n\u001b[1;32m----> 8\u001b[0m \u001b[39mfrom\u001b[39;00m \u001b[39mkeras_core\u001b[39;00m\u001b[39m.\u001b[39;00m\u001b[39msrc\u001b[39;00m\u001b[39m.\u001b[39;00m\u001b[39mactivations\u001b[39;00m \u001b[39mimport\u001b[39;00m deserialize\n\u001b[0;32m      9\u001b[0m \u001b[39mfrom\u001b[39;00m \u001b[39mkeras_core\u001b[39;00m\u001b[39m.\u001b[39;00m\u001b[39msrc\u001b[39;00m\u001b[39m.\u001b[39;00m\u001b[39mactivations\u001b[39;00m \u001b[39mimport\u001b[39;00m get\n\u001b[0;32m     10\u001b[0m \u001b[39mfrom\u001b[39;00m \u001b[39mkeras_core\u001b[39;00m\u001b[39m.\u001b[39;00m\u001b[39msrc\u001b[39;00m\u001b[39m.\u001b[39;00m\u001b[39mactivations\u001b[39;00m \u001b[39mimport\u001b[39;00m serialize\n",
      "File \u001b[1;32mc:\\All\\Coding\\Python\\Python311\\Lib\\site-packages\\keras_core\\src\\__init__.py:1\u001b[0m\n\u001b[1;32m----> 1\u001b[0m \u001b[39mfrom\u001b[39;00m \u001b[39mkeras_core\u001b[39;00m\u001b[39m.\u001b[39;00m\u001b[39msrc\u001b[39;00m \u001b[39mimport\u001b[39;00m activations\n\u001b[0;32m      2\u001b[0m \u001b[39mfrom\u001b[39;00m \u001b[39mkeras_core\u001b[39;00m\u001b[39m.\u001b[39;00m\u001b[39msrc\u001b[39;00m \u001b[39mimport\u001b[39;00m applications\n\u001b[0;32m      3\u001b[0m \u001b[39mfrom\u001b[39;00m \u001b[39mkeras_core\u001b[39;00m\u001b[39m.\u001b[39;00m\u001b[39msrc\u001b[39;00m \u001b[39mimport\u001b[39;00m backend\n",
      "File \u001b[1;32mc:\\All\\Coding\\Python\\Python311\\Lib\\site-packages\\keras_core\\src\\activations\\__init__.py:3\u001b[0m\n\u001b[0;32m      1\u001b[0m \u001b[39mimport\u001b[39;00m \u001b[39mtypes\u001b[39;00m\n\u001b[1;32m----> 3\u001b[0m \u001b[39mfrom\u001b[39;00m \u001b[39mkeras_core\u001b[39;00m\u001b[39m.\u001b[39;00m\u001b[39msrc\u001b[39;00m\u001b[39m.\u001b[39;00m\u001b[39mactivations\u001b[39;00m\u001b[39m.\u001b[39;00m\u001b[39mactivations\u001b[39;00m \u001b[39mimport\u001b[39;00m elu\n\u001b[0;32m      4\u001b[0m \u001b[39mfrom\u001b[39;00m \u001b[39mkeras_core\u001b[39;00m\u001b[39m.\u001b[39;00m\u001b[39msrc\u001b[39;00m\u001b[39m.\u001b[39;00m\u001b[39mactivations\u001b[39;00m\u001b[39m.\u001b[39;00m\u001b[39mactivations\u001b[39;00m \u001b[39mimport\u001b[39;00m exponential\n\u001b[0;32m      5\u001b[0m \u001b[39mfrom\u001b[39;00m \u001b[39mkeras_core\u001b[39;00m\u001b[39m.\u001b[39;00m\u001b[39msrc\u001b[39;00m\u001b[39m.\u001b[39;00m\u001b[39mactivations\u001b[39;00m\u001b[39m.\u001b[39;00m\u001b[39mactivations\u001b[39;00m \u001b[39mimport\u001b[39;00m gelu\n",
      "File \u001b[1;32mc:\\All\\Coding\\Python\\Python311\\Lib\\site-packages\\keras_core\\src\\activations\\activations.py:1\u001b[0m\n\u001b[1;32m----> 1\u001b[0m \u001b[39mfrom\u001b[39;00m \u001b[39mkeras_core\u001b[39;00m\u001b[39m.\u001b[39;00m\u001b[39msrc\u001b[39;00m \u001b[39mimport\u001b[39;00m backend\n\u001b[0;32m      2\u001b[0m \u001b[39mfrom\u001b[39;00m \u001b[39mkeras_core\u001b[39;00m\u001b[39m.\u001b[39;00m\u001b[39msrc\u001b[39;00m \u001b[39mimport\u001b[39;00m ops\n\u001b[0;32m      3\u001b[0m \u001b[39mfrom\u001b[39;00m \u001b[39mkeras_core\u001b[39;00m\u001b[39m.\u001b[39;00m\u001b[39msrc\u001b[39;00m\u001b[39m.\u001b[39;00m\u001b[39mapi_export\u001b[39;00m \u001b[39mimport\u001b[39;00m keras_core_export\n",
      "File \u001b[1;32mc:\\All\\Coding\\Python\\Python311\\Lib\\site-packages\\keras_core\\src\\backend\\__init__.py:39\u001b[0m\n\u001b[0;32m     37\u001b[0m \u001b[39melif\u001b[39;00m backend() \u001b[39m==\u001b[39m \u001b[39m\"\u001b[39m\u001b[39mjax\u001b[39m\u001b[39m\"\u001b[39m:\n\u001b[0;32m     38\u001b[0m     print_msg(\u001b[39m\"\u001b[39m\u001b[39mUsing JAX backend.\u001b[39m\u001b[39m\"\u001b[39m)\n\u001b[1;32m---> 39\u001b[0m     \u001b[39mfrom\u001b[39;00m \u001b[39mkeras_core\u001b[39;00m\u001b[39m.\u001b[39;00m\u001b[39msrc\u001b[39;00m\u001b[39m.\u001b[39;00m\u001b[39mbackend\u001b[39;00m\u001b[39m.\u001b[39;00m\u001b[39mjax\u001b[39;00m \u001b[39mimport\u001b[39;00m \u001b[39m*\u001b[39m  \u001b[39m# noqa: F403\u001b[39;00m\n\u001b[0;32m     40\u001b[0m \u001b[39melif\u001b[39;00m backend() \u001b[39m==\u001b[39m \u001b[39m\"\u001b[39m\u001b[39mtorch\u001b[39m\u001b[39m\"\u001b[39m:\n\u001b[0;32m     41\u001b[0m     print_msg(\u001b[39m\"\u001b[39m\u001b[39mUsing PyTorch backend.\u001b[39m\u001b[39m\"\u001b[39m)\n",
      "File \u001b[1;32mc:\\All\\Coding\\Python\\Python311\\Lib\\site-packages\\keras_core\\src\\backend\\jax\\__init__.py:1\u001b[0m\n\u001b[1;32m----> 1\u001b[0m \u001b[39mfrom\u001b[39;00m \u001b[39mkeras_core\u001b[39;00m\u001b[39m.\u001b[39;00m\u001b[39msrc\u001b[39;00m\u001b[39m.\u001b[39;00m\u001b[39mbackend\u001b[39;00m\u001b[39m.\u001b[39;00m\u001b[39mjax\u001b[39;00m \u001b[39mimport\u001b[39;00m core\n\u001b[0;32m      2\u001b[0m \u001b[39mfrom\u001b[39;00m \u001b[39mkeras_core\u001b[39;00m\u001b[39m.\u001b[39;00m\u001b[39msrc\u001b[39;00m\u001b[39m.\u001b[39;00m\u001b[39mbackend\u001b[39;00m\u001b[39m.\u001b[39;00m\u001b[39mjax\u001b[39;00m \u001b[39mimport\u001b[39;00m distribution_lib\n\u001b[0;32m      3\u001b[0m \u001b[39mfrom\u001b[39;00m \u001b[39mkeras_core\u001b[39;00m\u001b[39m.\u001b[39;00m\u001b[39msrc\u001b[39;00m\u001b[39m.\u001b[39;00m\u001b[39mbackend\u001b[39;00m\u001b[39m.\u001b[39;00m\u001b[39mjax\u001b[39;00m \u001b[39mimport\u001b[39;00m image\n",
      "File \u001b[1;32mc:\\All\\Coding\\Python\\Python311\\Lib\\site-packages\\keras_core\\src\\backend\\jax\\core.py:3\u001b[0m\n\u001b[0;32m      1\u001b[0m \u001b[39mimport\u001b[39;00m \u001b[39mtypes\u001b[39;00m\n\u001b[1;32m----> 3\u001b[0m \u001b[39mimport\u001b[39;00m \u001b[39mjax\u001b[39;00m\n\u001b[0;32m      4\u001b[0m \u001b[39mimport\u001b[39;00m \u001b[39mjax\u001b[39;00m\u001b[39m.\u001b[39;00m\u001b[39mnumpy\u001b[39;00m \u001b[39mas\u001b[39;00m \u001b[39mjnp\u001b[39;00m\n\u001b[0;32m      5\u001b[0m \u001b[39mimport\u001b[39;00m \u001b[39mnumpy\u001b[39;00m \u001b[39mas\u001b[39;00m \u001b[39mnp\u001b[39;00m\n",
      "File \u001b[1;32mc:\\All\\Coding\\Python\\Python311\\Lib\\site-packages\\jax\\__init__.py:39\u001b[0m\n\u001b[0;32m     34\u001b[0m \u001b[39mdel\u001b[39;00m _cloud_tpu_init\n\u001b[0;32m     36\u001b[0m \u001b[39m# Confusingly there are two things named \"config\": the module and the class.\u001b[39;00m\n\u001b[0;32m     37\u001b[0m \u001b[39m# We want the exported object to be the class, so we first import the module\u001b[39;00m\n\u001b[0;32m     38\u001b[0m \u001b[39m# to make sure a later import doesn't overwrite the class.\u001b[39;00m\n\u001b[1;32m---> 39\u001b[0m \u001b[39mfrom\u001b[39;00m \u001b[39mjax\u001b[39;00m \u001b[39mimport\u001b[39;00m config \u001b[39mas\u001b[39;00m _config_module\n\u001b[0;32m     40\u001b[0m \u001b[39mdel\u001b[39;00m _config_module\n\u001b[0;32m     42\u001b[0m \u001b[39m# Force early import, allowing use of `jax.core` after importing `jax`.\u001b[39;00m\n",
      "File \u001b[1;32mc:\\All\\Coding\\Python\\Python311\\Lib\\site-packages\\jax\\config.py:15\u001b[0m\n\u001b[0;32m      1\u001b[0m \u001b[39m# Copyright 2018 The JAX Authors.\u001b[39;00m\n\u001b[0;32m      2\u001b[0m \u001b[39m#\u001b[39;00m\n\u001b[0;32m      3\u001b[0m \u001b[39m# Licensed under the Apache License, Version 2.0 (the \"License\");\u001b[39;00m\n\u001b[1;32m   (...)\u001b[0m\n\u001b[0;32m     12\u001b[0m \u001b[39m# See the License for the specific language governing permissions and\u001b[39;00m\n\u001b[0;32m     13\u001b[0m \u001b[39m# limitations under the License.\u001b[39;00m\n\u001b[1;32m---> 15\u001b[0m \u001b[39mfrom\u001b[39;00m \u001b[39mjax\u001b[39;00m\u001b[39m.\u001b[39;00m\u001b[39m_src\u001b[39;00m\u001b[39m.\u001b[39;00m\u001b[39mconfig\u001b[39;00m \u001b[39mimport\u001b[39;00m config \u001b[39mas\u001b[39;00m _deprecated_config  \u001b[39m# noqa: F401\u001b[39;00m\n\u001b[0;32m     17\u001b[0m \u001b[39m# Deprecations\u001b[39;00m\n\u001b[0;32m     19\u001b[0m _deprecations \u001b[39m=\u001b[39m {\n\u001b[0;32m     20\u001b[0m     \u001b[39m# Added October 27, 2023\u001b[39;00m\n\u001b[0;32m     21\u001b[0m     \u001b[39m\"\u001b[39m\u001b[39mconfig\u001b[39m\u001b[39m\"\u001b[39m: (\n\u001b[0;32m     22\u001b[0m         \u001b[39m\"\u001b[39m\u001b[39mAccessing jax.config via the jax.config submodule is deprecated.\u001b[39m\u001b[39m\"\u001b[39m,\n\u001b[0;32m     23\u001b[0m         _deprecated_config),\n\u001b[0;32m     24\u001b[0m }\n",
      "File \u001b[1;32mc:\\All\\Coding\\Python\\Python311\\Lib\\site-packages\\jax\\_src\\config.py:28\u001b[0m\n\u001b[0;32m     25\u001b[0m \u001b[39mfrom\u001b[39;00m \u001b[39mtyping\u001b[39;00m \u001b[39mimport\u001b[39;00m Any, Callable, Generic, NamedTuple, NoReturn, Optional, TypeVar\n\u001b[0;32m     26\u001b[0m \u001b[39mimport\u001b[39;00m \u001b[39mwarnings\u001b[39;00m\n\u001b[1;32m---> 28\u001b[0m \u001b[39mfrom\u001b[39;00m \u001b[39mjax\u001b[39;00m\u001b[39m.\u001b[39;00m\u001b[39m_src\u001b[39;00m \u001b[39mimport\u001b[39;00m lib\n\u001b[0;32m     29\u001b[0m \u001b[39mfrom\u001b[39;00m \u001b[39mjax\u001b[39;00m\u001b[39m.\u001b[39;00m\u001b[39m_src\u001b[39;00m\u001b[39m.\u001b[39;00m\u001b[39mlib\u001b[39;00m \u001b[39mimport\u001b[39;00m jax_jit\n\u001b[0;32m     30\u001b[0m \u001b[39mfrom\u001b[39;00m \u001b[39mjax\u001b[39;00m\u001b[39m.\u001b[39;00m\u001b[39m_src\u001b[39;00m\u001b[39m.\u001b[39;00m\u001b[39mlib\u001b[39;00m \u001b[39mimport\u001b[39;00m transfer_guard_lib\n",
      "File \u001b[1;32mc:\\All\\Coding\\Python\\Python311\\Lib\\site-packages\\jax\\_src\\lib\\__init__.py:75\u001b[0m\n\u001b[0;32m     70\u001b[0m   \u001b[39mreturn\u001b[39;00m _jaxlib_version\n\u001b[0;32m     73\u001b[0m version_str \u001b[39m=\u001b[39m jaxlib\u001b[39m.\u001b[39mversion\u001b[39m.\u001b[39m__version__\n\u001b[0;32m     74\u001b[0m version \u001b[39m=\u001b[39m check_jaxlib_version(\n\u001b[1;32m---> 75\u001b[0m   jax_version\u001b[39m=\u001b[39mjax\u001b[39m.\u001b[39;49mversion\u001b[39m.\u001b[39m__version__,\n\u001b[0;32m     76\u001b[0m   jaxlib_version\u001b[39m=\u001b[39mjaxlib\u001b[39m.\u001b[39mversion\u001b[39m.\u001b[39m__version__,\n\u001b[0;32m     77\u001b[0m   minimum_jaxlib_version\u001b[39m=\u001b[39mjax\u001b[39m.\u001b[39mversion\u001b[39m.\u001b[39m_minimum_jaxlib_version)\n\u001b[0;32m     79\u001b[0m \u001b[39m# Before importing any C compiled modules from jaxlib, first import the CPU\u001b[39;00m\n\u001b[0;32m     80\u001b[0m \u001b[39m# feature guard module to verify that jaxlib was compiled in a way that only\u001b[39;00m\n\u001b[0;32m     81\u001b[0m \u001b[39m# uses instructions that are present on this machine.\u001b[39;00m\n\u001b[0;32m     82\u001b[0m \u001b[39mimport\u001b[39;00m \u001b[39mjaxlib\u001b[39;00m\u001b[39m.\u001b[39;00m\u001b[39mcpu_feature_guard\u001b[39;00m \u001b[39mas\u001b[39;00m \u001b[39mcpu_feature_guard\u001b[39;00m\n",
      "\u001b[1;31mAttributeError\u001b[0m: partially initialized module 'jax' has no attribute 'version' (most likely due to a circular import)"
     ]
    }
   ],
   "source": [
    "import os\n",
    "os.environ[\"KERAS_BACKEND\"] = \"jax\" # or \"tensorflow\", \"torch\"\n",
    "\n",
    "import cv2\n",
    "import pickle\n",
    "import numpy as np\n",
    "import pandas as pd\n",
    "import seaborn as sns\n",
    "import matplotlib.pyplot as plt\n",
    "\n",
    "# Set the style for the plot\n",
    "sns.set(style=\"whitegrid\")\n",
    "\n",
    "\n",
    "import tensorflow as tf\n",
    "import keras_cv\n",
    "import keras_core as keras\n",
    "from keras_core import ops"
   ]
  },
  {
   "cell_type": "code",
   "execution_count": null,
   "metadata": {},
   "outputs": [],
   "source": []
  },
  {
   "cell_type": "markdown",
   "metadata": {},
   "source": [
    "## Configuration\n",
    "\n",
    "Please feel free to change the configuration and run experiments."
   ]
  },
  {
   "cell_type": "code",
   "execution_count": 10,
   "metadata": {
    "execution": {
     "iopub.execute_input": "2023-10-16T18:59:45.096785Z",
     "iopub.status.busy": "2023-10-16T18:59:45.096156Z",
     "iopub.status.idle": "2023-10-16T18:59:45.105417Z",
     "shell.execute_reply": "2023-10-16T18:59:45.103082Z",
     "shell.execute_reply.started": "2023-10-16T18:59:45.096752Z"
    }
   },
   "outputs": [],
   "source": [
    "class Config:\n",
    "    is_submission = False\n",
    "    \n",
    "    # Reproducibility\n",
    "    SEED = 42\n",
    "    \n",
    "    # Training\n",
    "#     train_csv_path = data_dir + \"train.csv\"\n",
    "#     train_thumbnail_paths = data_dir + \"train_images_compressed_80\"\n",
    "    batch_size = 8\n",
    "    learning_rate = 1e-3\n",
    "    epochs = 2\n",
    "    \n",
    "    # Inference\n",
    "#     test_csv_path = data_dir + \"test.csv\"\n",
    "#     test_thumbnail_paths = data_dir + \"test_images_compressed_80\"\n",
    "\n",
    "config = Config()"
   ]
  },
  {
   "cell_type": "markdown",
   "metadata": {},
   "source": [
    "To help with reproducibility we set the seed of the Pseudo Random Number Generator."
   ]
  },
  {
   "cell_type": "code",
   "execution_count": 11,
   "metadata": {
    "execution": {
     "iopub.execute_input": "2023-10-16T18:59:46.760343Z",
     "iopub.status.busy": "2023-10-16T18:59:46.759977Z",
     "iopub.status.idle": "2023-10-16T18:59:46.765065Z",
     "shell.execute_reply": "2023-10-16T18:59:46.763862Z",
     "shell.execute_reply.started": "2023-10-16T18:59:46.760314Z"
    }
   },
   "outputs": [
    {
     "ename": "NameError",
     "evalue": "name 'keras' is not defined",
     "output_type": "error",
     "traceback": [
      "\u001b[0;31m---------------------------------------------------------------------------\u001b[0m",
      "\u001b[0;31mNameError\u001b[0m                                 Traceback (most recent call last)",
      "Cell \u001b[0;32mIn[11], line 1\u001b[0m\n\u001b[0;32m----> 1\u001b[0m \u001b[43mkeras\u001b[49m\u001b[38;5;241m.\u001b[39mutils\u001b[38;5;241m.\u001b[39mset_random_seed(seed\u001b[38;5;241m=\u001b[39mconfig\u001b[38;5;241m.\u001b[39mSEED)\n",
      "\u001b[0;31mNameError\u001b[0m: name 'keras' is not defined"
     ]
    }
   ],
   "source": [
    "keras.utils.set_random_seed(seed=config.SEED)"
   ]
  },
  {
   "cell_type": "markdown",
   "metadata": {},
   "source": [
    "# Training"
   ]
  },
  {
   "cell_type": "markdown",
   "metadata": {},
   "source": [
    "## Dataset\n",
    "\n",
    "In this notebook we train on the thumbnails for quick iteration. Also note that we are NOT going to work on the anomaly detection part of the competition here. We will train a simple image classification model that will classify the scans of biopsy samples to their respective subtypes."
   ]
  },
  {
   "cell_type": "code",
   "execution_count": null,
   "metadata": {
    "execution": {
     "iopub.execute_input": "2023-10-16T19:00:51.257964Z",
     "iopub.status.busy": "2023-10-16T19:00:51.257634Z",
     "iopub.status.idle": "2023-10-16T19:00:51.572668Z",
     "shell.execute_reply": "2023-10-16T19:00:51.57177Z",
     "shell.execute_reply.started": "2023-10-16T19:00:51.257936Z"
    }
   },
   "outputs": [],
   "source": [
    "if not config.is_submission:\n",
    "    df = pd.read_csv(config.train_csv_path)\n",
    "\n",
    "    # Create the thumbnail df where is_tma == False\n",
    "    df = df[df[\"is_tma\"] == False]\n",
    "    \n",
    "    # Get basic statistics about the dataset\n",
    "    num_rows = df.shape[0]\n",
    "    num_unique_images = df['image_id'].nunique()\n",
    "    num_unique_labels = df['label'].nunique()\n",
    "    unique_labels = df['label'].unique()\n",
    "\n",
    "    print(f\"{num_rows=}\")\n",
    "    print(f\"{num_unique_images=}\")\n",
    "    print(f\"{num_unique_labels=}\")\n",
    "    print(f\"{unique_labels=}\")\n",
    "    \n",
    "    # Plot the distribution of the target classes\n",
    "    plt.figure(figsize=(10, 6))\n",
    "    sns.countplot(data=df, x='label', order=df['label'].value_counts().index)\n",
    "    plt.title('Distribution of Target Classes')\n",
    "    plt.xlabel('Label')\n",
    "    plt.ylabel('Count')\n",
    "    plt.show()"
   ]
  },
  {
   "cell_type": "markdown",
   "metadata": {},
   "source": [
    "Note the imbalance in the distribution of target classes."
   ]
  },
  {
   "cell_type": "markdown",
   "metadata": {},
   "source": [
    "## Perform one-hot encoding"
   ]
  },
  {
   "cell_type": "code",
   "execution_count": null,
   "metadata": {
    "execution": {
     "iopub.execute_input": "2023-10-16T19:01:47.202799Z",
     "iopub.status.busy": "2023-10-16T19:01:47.202121Z",
     "iopub.status.idle": "2023-10-16T19:01:47.21783Z",
     "shell.execute_reply": "2023-10-16T19:01:47.216848Z",
     "shell.execute_reply.started": "2023-10-16T19:01:47.202768Z"
    }
   },
   "outputs": [],
   "source": [
    "if not config.is_submission:\n",
    "    # Perform one-hot encoding of the 'label' column and explicitly convert to integer type\n",
    "    df_one_hot = pd.get_dummies(df[\"label\"], prefix=\"label\").astype(int)\n",
    "\n",
    "    # Concatenate the original DataFrame with the one-hot encoded labels\n",
    "    train_df = pd.concat([df[\"image_id\"], df_one_hot], axis=1)\n",
    "\n",
    "    # Get the thumbnail image paths\n",
    "    train_df[\"image_thumbnail_path\"] = train_df[\"image_id\"].apply(lambda x: f\"{config.train_thumbnail_paths}/{x}_thumbnail.png\")\n",
    "    \n",
    "    image_thumbnail_paths = train_df[\"image_thumbnail_path\"].values\n",
    "    labels = train_df[[col for col in train_df.columns if col.startswith(\"label_\")]].values\n",
    "\n",
    "    label_names = [col for col in train_df.columns if col.startswith(\"label_\")]\n",
    "    name_to_id = {key.replace(\"label_\", \"\"):value for value,key in enumerate(label_names)}\n",
    "    id_to_name = {key:value for value, key in name_to_id.items()}\n",
    "    \n",
    "    # Save to dictionary to disk\n",
    "    with open(\"id_to_name.pkl\", \"wb\") as f:\n",
    "        pickle.dump(id_to_name, f)"
   ]
  },
  {
   "cell_type": "markdown",
   "metadata": {},
   "source": [
    "Taking pointers from the [image classification on imbalanced dataset guide](https://www.tensorflow.org/tutorials/structured_data/imbalanced_data), we create the class weights which will be used to train the model."
   ]
  },
  {
   "cell_type": "code",
   "execution_count": null,
   "metadata": {
    "execution": {
     "iopub.execute_input": "2023-10-16T19:01:47.862611Z",
     "iopub.status.busy": "2023-10-16T19:01:47.86166Z",
     "iopub.status.idle": "2023-10-16T19:01:47.868764Z",
     "shell.execute_reply": "2023-10-16T19:01:47.867694Z",
     "shell.execute_reply.started": "2023-10-16T19:01:47.86258Z"
    }
   },
   "outputs": [],
   "source": [
    "if not config.is_submission:\n",
    "    class_weights = np.sum(labels) - np.sum(labels, axis=0)\n",
    "    class_weights = class_weights / np.sum(class_weights) # Normalize the weights\n",
    "\n",
    "    class_weights = {idx:weight for idx, weight in enumerate(class_weights)}\n",
    "\n",
    "    for idx, weight in class_weights.items():\n",
    "        print(f\"{id_to_name[idx]}: {weight:0.2f}\")"
   ]
  },
  {
   "cell_type": "markdown",
   "metadata": {},
   "source": [
    "## Creating the `tf.data.Dataset` pipeline"
   ]
  },
  {
   "cell_type": "code",
   "execution_count": null,
   "metadata": {
    "execution": {
     "iopub.execute_input": "2023-10-16T19:02:00.144896Z",
     "iopub.status.busy": "2023-10-16T19:02:00.144555Z",
     "iopub.status.idle": "2023-10-16T19:02:00.150104Z",
     "shell.execute_reply": "2023-10-16T19:02:00.14911Z",
     "shell.execute_reply.started": "2023-10-16T19:02:00.144868Z"
    }
   },
   "outputs": [],
   "source": [
    "def read_image(path):\n",
    "    file = tf.io.read_file(path)\n",
    "    image = tf.io.decode_png(file, 3)\n",
    "    image = tf.image.resize(image, (256, 256))\n",
    "    image = tf.image.per_image_standardization(image)\n",
    "    return image"
   ]
  },
  {
   "cell_type": "code",
   "execution_count": null,
   "metadata": {
    "execution": {
     "iopub.execute_input": "2023-10-16T19:02:29.29141Z",
     "iopub.status.busy": "2023-10-16T19:02:29.291068Z",
     "iopub.status.idle": "2023-10-16T19:02:29.355545Z",
     "shell.execute_reply": "2023-10-16T19:02:29.354587Z",
     "shell.execute_reply.started": "2023-10-16T19:02:29.291382Z"
    }
   },
   "outputs": [],
   "source": [
    "if not config.is_submission:\n",
    "    x = (\n",
    "        tf.data.Dataset.from_tensor_slices(image_thumbnail_paths)\n",
    "        .map(read_image, num_parallel_calls=tf.data.AUTOTUNE)\n",
    "    )\n",
    "    y = tf.data.Dataset.from_tensor_slices(labels)\n",
    "\n",
    "    # Zip the x and y together\n",
    "    ds = tf.data.Dataset.zip((x, y))\n",
    "    \n",
    "    # Create the training and validation splits\n",
    "    val_ds = (\n",
    "        ds\n",
    "        .take(50)\n",
    "        .batch(config.batch_size)\n",
    "        .prefetch(tf.data.AUTOTUNE)\n",
    "    )\n",
    "    train_ds = (\n",
    "        ds\n",
    "        .skip(50)\n",
    "        .shuffle(config.batch_size * 10)\n",
    "        .batch(config.batch_size)\n",
    "        .prefetch(tf.data.AUTOTUNE)\n",
    "    )"
   ]
  },
  {
   "cell_type": "markdown",
   "metadata": {},
   "source": [
    "Visualizing the dataset is always fruitful. Below we will sample from the dataset and visualize some images."
   ]
  },
  {
   "cell_type": "code",
   "execution_count": null,
   "metadata": {
    "execution": {
     "iopub.execute_input": "2023-10-16T19:02:47.68289Z",
     "iopub.status.busy": "2023-10-16T19:02:47.682559Z",
     "iopub.status.idle": "2023-10-16T19:03:05.869607Z",
     "shell.execute_reply": "2023-10-16T19:03:05.868784Z",
     "shell.execute_reply.started": "2023-10-16T19:02:47.682863Z"
    }
   },
   "outputs": [],
   "source": [
    "if not config.is_submission:\n",
    "    images, labels = train_ds.take(1).get_single_element()\n",
    "\n",
    "    keras_cv.visualization.plot_image_gallery(\n",
    "        images,\n",
    "        value_range=(0, 1),\n",
    "        rows=2,\n",
    "        cols=2,\n",
    "    )"
   ]
  },
  {
   "cell_type": "markdown",
   "metadata": {},
   "source": [
    "## Build the Model\n",
    "\n",
    "[List of Keras CV models](https://keras.io/api/keras_cv/models/)"
   ]
  },
  {
   "cell_type": "code",
   "execution_count": null,
   "metadata": {
    "execution": {
     "iopub.execute_input": "2023-10-16T19:03:51.468009Z",
     "iopub.status.busy": "2023-10-16T19:03:51.467622Z",
     "iopub.status.idle": "2023-10-16T19:04:00.754399Z",
     "shell.execute_reply": "2023-10-16T19:04:00.753434Z",
     "shell.execute_reply.started": "2023-10-16T19:03:51.467976Z"
    }
   },
   "outputs": [],
   "source": [
    "# Load the image and text backbones with presets\n",
    "resnet_backbone = keras_cv.models.ResNetV2Backbone.from_preset(\n",
    "    \"resnet152_v2\",\n",
    ")\n",
    "resnet_backbone.trainable = False\n",
    "\n",
    "image_inputs = resnet_backbone.input\n",
    "image_embeddings = resnet_backbone(image_inputs)\n",
    "image_embeddings = keras.layers.GlobalAveragePooling2D()(image_embeddings)\n",
    "\n",
    "x = keras.layers.BatchNormalization(epsilon=1e-05, momentum=0.1)(image_embeddings)\n",
    "x = keras.layers.Dense(units=1024, activation=\"relu\")(x)\n",
    "x = keras.layers.Dropout(0.1)(x)\n",
    "x = keras.layers.Dense(units=512, activation=\"relu\")(x)\n",
    "x = keras.layers.Dropout(0.1)(x)\n",
    "x = keras.layers.Dense(units=256, activation=\"relu\")(x)\n",
    "outputs = keras.layers.Dense(units=5, activation=\"softmax\")(x)\n",
    "\n",
    "# Build the model with the Functional API\n",
    "model = keras.Model(\n",
    "    inputs=image_inputs,\n",
    "    outputs=outputs,\n",
    ")\n",
    "\n",
    "model.summary()"
   ]
  },
  {
   "cell_type": "code",
   "execution_count": null,
   "metadata": {
    "execution": {
     "iopub.execute_input": "2023-10-16T19:04:50.417075Z",
     "iopub.status.busy": "2023-10-16T19:04:50.416713Z"
    }
   },
   "outputs": [],
   "source": [
    "if not config.is_submission:\n",
    "    model.compile(\n",
    "        optimizer=keras.optimizers.Adam(learning_rate=config.learning_rate),\n",
    "        loss=keras.losses.CategoricalCrossentropy(),\n",
    "        metrics=[\"accuracy\"],\n",
    "    )\n",
    "\n",
    "    history = model.fit(\n",
    "        train_ds,\n",
    "        epochs=config.epochs,\n",
    "        validation_data=val_ds,\n",
    "        class_weight=class_weights,\n",
    "    )\n",
    "    \n",
    "    model.save_weights(\"ucb_ocean_checkpoint.weights.h5\")"
   ]
  },
  {
   "cell_type": "markdown",
   "metadata": {},
   "source": [
    "## Inference"
   ]
  },
  {
   "cell_type": "code",
   "execution_count": null,
   "metadata": {
    "execution": {
     "iopub.execute_input": "2023-10-16T07:45:53.282946Z",
     "iopub.status.busy": "2023-10-16T07:45:53.282617Z",
     "iopub.status.idle": "2023-10-16T07:45:53.295013Z",
     "shell.execute_reply": "2023-10-16T07:45:53.294112Z",
     "shell.execute_reply.started": "2023-10-16T07:45:53.28292Z"
    }
   },
   "outputs": [],
   "source": [
    "if config.is_submission:\n",
    "    df = pd.read_csv(config.test_csv_path)\n",
    "    df[\"image_path\"] = df[\"image_id\"].apply(lambda x: f\"{config.test_thumbnail_paths}/{x}_thumbnail.png\")\n",
    "    \n",
    "    # Load the model weights\n",
    "    model.load_weights(\"/kaggle/input/kerascv-train-and-infer-on-thumbnails/ucb_ocean_checkpoint.weights.h5\")\n",
    "    \n",
    "    # Load the id to name dictionary\n",
    "    with open(\"/kaggle/input/kerascv-train-and-infer-on-thumbnails/id_to_name.pkl\", \"rb\") as f:\n",
    "        id_to_name = pickle.load(f)"
   ]
  },
  {
   "cell_type": "code",
   "execution_count": null,
   "metadata": {
    "execution": {
     "iopub.execute_input": "2023-10-16T07:45:55.684413Z",
     "iopub.status.busy": "2023-10-16T07:45:55.684045Z",
     "iopub.status.idle": "2023-10-16T07:46:05.480755Z",
     "shell.execute_reply": "2023-10-16T07:46:05.479784Z",
     "shell.execute_reply.started": "2023-10-16T07:45:55.684383Z"
    }
   },
   "outputs": [],
   "source": [
    "if config.is_submission:\n",
    "    predicted_labels = []\n",
    "\n",
    "    for index, row in df.iterrows():\n",
    "        # Get the image path\n",
    "        image_path = row[\"image_path\"]\n",
    "\n",
    "        # Get the image\n",
    "        image = read_image(image_path)[None, ...]\n",
    "\n",
    "        # Predict the label\n",
    "        logits = model.predict(image)\n",
    "        pred = ops.argmax(logits, axis=-1).tolist()[0]\n",
    "\n",
    "        # Map the pred to the name\n",
    "        label = id_to_name[pred]\n",
    "\n",
    "        predicted_labels.append(label)\n",
    "\n",
    "    # Add the predicted labels to the csv\n",
    "    df[\"label\"] = predicted_labels"
   ]
  },
  {
   "cell_type": "code",
   "execution_count": null,
   "metadata": {
    "execution": {
     "iopub.execute_input": "2023-10-16T07:46:48.305247Z",
     "iopub.status.busy": "2023-10-16T07:46:48.304205Z",
     "iopub.status.idle": "2023-10-16T07:46:48.315438Z",
     "shell.execute_reply": "2023-10-16T07:46:48.314521Z",
     "shell.execute_reply.started": "2023-10-16T07:46:48.305201Z"
    }
   },
   "outputs": [],
   "source": [
    "if config.is_submission:\n",
    "    # Create the submission\n",
    "    submission_df = df[[\"image_id\", \"label\"]]\n",
    "    submission_df.to_csv(\"submission.csv\", index=False)"
   ]
  },
  {
   "cell_type": "markdown",
   "metadata": {},
   "source": [
    "# Directions Ahead\n",
    "\n",
    "There are a lot of directions one can take to iterate on top of this starter notebook. Some of them are:\n",
    "\n",
    "- Play with the various hyperparameters (in the configuration) to get better results\n",
    "- Come up with a strategy for anomaly detection\n",
    "- Use different models from the Keras CV presets"
   ]
  }
 ],
 "metadata": {
  "kaggle": {
   "accelerator": "gpu",
   "dataSources": [
    {
     "databundleVersionId": 6924515,
     "sourceId": 45867,
     "sourceType": "competition"
    },
    {
     "sourceId": 146982497,
     "sourceType": "kernelVersion"
    }
   ],
   "dockerImageVersionId": 30559,
   "isGpuEnabled": true,
   "isInternetEnabled": false,
   "language": "python",
   "sourceType": "notebook"
  },
  "kernelspec": {
   "display_name": "Python 3 (ipykernel)",
   "language": "python",
   "name": "python3"
  },
  "language_info": {
   "codemirror_mode": {
    "name": "ipython",
    "version": 3
   },
   "file_extension": ".py",
   "mimetype": "text/x-python",
   "name": "python",
   "nbconvert_exporter": "python",
   "pygments_lexer": "ipython3",
   "version": "3.11.5"
  }
 },
 "nbformat": 4,
 "nbformat_minor": 4
}
