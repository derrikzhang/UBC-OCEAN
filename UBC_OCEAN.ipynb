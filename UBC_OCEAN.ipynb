{
 "cells": [
  {
   "cell_type": "code",
   "execution_count": 22,
   "id": "a9752df3",
   "metadata": {},
   "outputs": [
    {
     "data": {
      "text/plain": [
       "'/projectnb/cs640grp/students/adnim'"
      ]
     },
     "execution_count": 22,
     "metadata": {},
     "output_type": "execute_result"
    }
   ],
   "source": [
    "%pwd"
   ]
  },
  {
   "cell_type": "code",
   "execution_count": 33,
   "id": "f62f2cf4",
   "metadata": {},
   "outputs": [
    {
     "data": {
      "text/plain": [
       "<bound method DataFrame.info of      image_id label\n",
       "0       57598    CC\n",
       "1       30868    MC\n",
       "2       42549    CC\n",
       "3       64824    CC\n",
       "4       15293  HGSC\n",
       "..        ...   ...\n",
       "425     52784  HGSC\n",
       "426     59383  HGSC\n",
       "427     56799    MC\n",
       "428     30515    EC\n",
       "429     51346    CC\n",
       "\n",
       "[430 rows x 2 columns]>"
      ]
     },
     "execution_count": 33,
     "metadata": {},
     "output_type": "execute_result"
    }
   ],
   "source": [
    "import pandas as pd\n",
    "import numpy as np\n",
    "\n",
    "\n",
    "\n",
    "data_dir = (\"../../materials/UBC-OCEAN_CS640/\")\n",
    "image_dir = data_dir+\"train_images_compressed_80\"\n",
    "\n",
    "train = pd.read_csv(data_dir + \"train.csv\")\n",
    "test  = pd.read_csv(data_dir+ \"test.csv\")\n",
    "\n",
    "train.info\n"
   ]
  },
  {
   "cell_type": "code",
   "execution_count": null,
   "id": "8516dce0",
   "metadata": {},
   "outputs": [],
   "source": [
    "import cv2\n",
    "\n"
   ]
  }
 ],
 "metadata": {
  "kernelspec": {
   "display_name": "Python 3 (ipykernel)",
   "language": "python",
   "name": "python3"
  },
  "language_info": {
   "codemirror_mode": {
    "name": "ipython",
    "version": 3
   },
   "file_extension": ".py",
   "mimetype": "text/x-python",
   "name": "python",
   "nbconvert_exporter": "python",
   "pygments_lexer": "ipython3",
   "version": "3.10.12"
  }
 },
 "nbformat": 4,
 "nbformat_minor": 5
}
